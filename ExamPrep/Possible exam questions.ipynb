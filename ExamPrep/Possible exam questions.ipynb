{
 "cells": [
  {
   "cell_type": "markdown",
   "metadata": {},
   "source": [
    "# Possible exam questions\n",
    "During the lectures course Paul van der Werf mentioned several possible questions that could be asked at the exam. These are all listed below. "
   ]
  },
  {
   "cell_type": "markdown",
   "metadata": {},
   "source": [
    "- **What is the difference between detailed balance and statistical equilibrium?** (Lecture 2, hour 1)\n",
    "\n",
    "**Answer** Detailed balance means every process is balanced by its counterproces. Statistical equilbrium means that sum of the rates of all processes populating level $i$ equals the sum of rates of all processes depopulating the level $i$. So, the difference is that in statistical equilbrium the *sum* of the processes considered, it does not saying anything about a process and its counterprocess."
   ]
  },
  {
   "cell_type": "markdown",
   "metadata": {},
   "source": [
    "- **Why is $I_\\nu$  an intrinsic property of a source, and $F_\\nu$ not?** (Lecture 2, hour 1) (Not really an exam question but would be nice to understand).\n",
    "\n",
    "**Answer**: The specific intensity defines the directional value of the radiation field and is defined per unit of solid angle. The flux is the specific energy integrated over the solid angle. This means the distance independence is eliminated."
   ]
  },
  {
   "cell_type": "markdown",
   "metadata": {},
   "source": [
    "- **Why doe sthe factor 1 over the speed of light emergy in the definition of the specific energy density?** (Lecture 2, hour 1)\n",
    "\n",
    "**Answer**: Flux density has units erg s-1 cm-1 Hz-1 or Jy. Specific energy density is defined as 1 over the speed of light times the flux density. The units then become erg cm-2 Hz-1. So from a measure of energy per unit of time per unit of distance, it transforms into a unit of energy per area. This makes sense. Since energy comes in with a velocity equal to the speed of light, you have to devide by $c$ to remove the time factor and obtain the energy density per area."
   ]
  },
  {
   "cell_type": "markdown",
   "metadata": {},
   "source": [
    " - **What is a recombination line?** (Lecture 4, hour 2)\n",
    " \n",
    "**Answer**: Recombination lines are spectral lines corresponding with the energy released from the recombination of an ion with an electron."
   ]
  },
  {
   "cell_type": "markdown",
   "metadata": {},
   "source": [
    "- **Explain what case A and case B recombination means.** (Lecture 4, hour 2)\n",
    "\n",
    "**Answer**: **Case A**: Case A is optically thin to ionizing radiation. This means that every ionizing photon emitted during the recombination preocess escapes. For this case, we sum the radiative capture rate coefficient $\\alpha_{nl}$ overa ll levels $nl$. **Case B**: Case B is optically thick to radiation just above $I_H = 13.60 \\text{ eV}$, so that ionizing photons emitted during recombination are immediatly reabsorbed, creating another ion and free electron by photoionization. In this case, the recombinations directly to $n=1$ do not reduce the ionization of the gas: only recombinations to $n \\geq 2$ act to reduce the ionizzation."
   ]
  },
  {
   "cell_type": "markdown",
   "metadata": {},
   "source": [
    "- **Don't confuse recombination lines with collisionally excited lines, people always do that at the exam. What is the difference?** (Lecture 4, hour 2)\n",
    "\n",
    "**Answer**: Recombination lines are spectral lines corresponding with the energy released from the recombination of an ion with an electron. Collisional excitation means that 2 particles collide inelastically. Kinetic energy is transformed into internal energy of particles. At least one of the particles goes to a higher quantum state. This collision produces a spectral line that corresponds with the energy conversion."
   ]
  },
  {
   "cell_type": "markdown",
   "metadata": {},
   "source": [
    "- Discussion questions lecture 4 (hour 2):\n",
    " - Assume we can image Halpha and Hbeta emission from an HII region. How can we correct for extinction?\n",
    " - Does it matter whether the dust is located in a foreground absorbing cloud or is mixed with the ionized gas? *Hint*: has to do with radiative transfer."
   ]
  },
  {
   "cell_type": "markdown",
   "metadata": {},
   "source": [
    "- **Derive the Strömgren radius.** (Lecture 5, hour 1)\n",
    "\n",
    "**Answer**:\n",
    "\n",
    "The strömgren sphere is a fully ionized, spherical region of uniform density, assuming the ionization to be maintained by absorption of the ionizing photons radiated by a central hot star. The strömgen radius is derived by\n",
    "\n",
    "$$ \\text{Recombination rate} = \\text{Photoionization rate} $$\n",
    "\n",
    "Let $Q_0$ be the rate of emission of hydrogen-ionizing photons, i.e., $h\\nu > I_H = 13.6 \\text{ eV}$\n",
    "\n",
    "Every radiative recombination:\n",
    "\n",
    "$$ \\text{H}^+ + e^- \\rightarrow \\text{H} + h\\nu $$\n",
    "\n",
    "is balanced by a photoionization:\n",
    "\n",
    "$$ \\text{H} + h\\nu \\rightarrow \\text{H}^+ + e^- $$\n",
    "\n",
    "The hydrogen density $n_H$ equals the density of the ionized hydrogen $n(\\text{H}^+)$.\n",
    "\n",
    "Using case B radiation recombination coefficient $\\alpha_B$, the following equation results:\n",
    "\n",
    "$$ Q_0 = \\frac{4\\pi}{3} R_{S0}^3 \\alpha_B n(\\text{H}^+) n_e $$\n",
    "\n",
    "Because $n(\\text{H}^+) = n_e = n_H$, we can solve for the Strömgen radius:\n",
    "\n",
    "$$ R_{SO} = \\bigg( \\frac{3 Q_0}{4 \\pi n_H^2 \\alpha_B} \\bigg)^\\frac{1}{3} $$"
   ]
  },
  {
   "cell_type": "markdown",
   "metadata": {},
   "source": [
    "- **Explain how recombination lines are used to determine the SFR, and discuss the uncertainties.** (Lecture 5, hour 2)\n",
    "\n",
    "**Answer**: The luminosity coming from recombination lines measures the rate of emission of hydrogen-ionizing photons, $Q_0$ coming from the central young hot star, assuming an HII region. It tells you what kind of star is there. If the luminosity of recombination lines for a whole galaxy can be measured, the formation rate of O-stars can be deduced. O-stars are short lived stars, their lifetime w.r.t long living stars can be neglected. Therefore the number of O stars in a galaxy is a measure of the star formation rate (SFR) in a galaxy. \n",
    "\n",
    "Sources of uncertainty:\n",
    "\n",
    "1. To relate the number of O-stars to the star formation rate, you need to assume a star formation history. For example, there are two extreme assumptions. One assumes a constant star formation rate, and the other is a sudden burst of star formation; all stars form at a particular moment and after that no more stars are formed. The real situation is somewhere in between these two extremes.\n",
    "2. To go from the SFR of O-stars, to the SFR in general, you need to know the mass fraction of O-stars w.r.t all the stars. This means you need to assume an *initial mass function*. This is a major source of uncertainty."
   ]
  },
  {
   "cell_type": "markdown",
   "metadata": {},
   "source": [
    "- **You need to be able to do the excitation in a 2-level system analysis on the exam. Maybe a 3-level system, but then it will be simplified. The excitation without induced radiative transitions will extremely likely be at the exam. So the system with the Einstein A coefficient and the collisional (de)-excitation arrows.** (lecture 6, hour 1)\n",
    "\n",
    "**Answer**:\n",
    "\n",
    "- **Spontaneous emission**: The process in which a quantum mechanical system transits from an excited energy state to a lower energy state (e.g. its ground state) and emits a quantized amount of energy in the form of a photon.\n",
    "\n",
    "$$ X_u \\rightarrow X_l + h\\nu_{ul} $$\n",
    "\n",
    "$$ - \\frac{\\text{d}n_u}{\\text{d}t} = \\frac{\\text{d}n_l}{\\text{d}t}= A_{ul}n_u $$\n",
    "\n",
    "- **Absorption**: Matter taking up a photon's energy and transforms is into internal energy (for example, thermal energy).\n",
    "\n",
    "$$ X_l + h\\nu \\rightarrow X_u $$\n",
    "\n",
    "$$ \\frac{\\text{d}n_u}{\\text{d}t} = - \\frac{\\text{d}n_l}{\\text{d}t}= B_{lu}n_l \\int u_\\nu \\phi_nu \\text{d}\\nu $$\n",
    "\n",
    "- **Stimulated emission**: The process by which an incoming photon of a specific frequency can interact with an excited atomic electron, causing it to drop to a lower energy level.\n",
    "\n",
    "$$ X_u + h\\nu \\rightarrow X_l + 2h\\nu $$\n",
    "\n",
    "$$ \\frac{\\text{d}n_l}{\\text{d}t} = - \\frac{\\text{d}n_u}{\\text{d}t}= B_{ul}n_u \\int u_\\nu \\phi_nu \\text{d}\\nu $$\n",
    "\n",
    "- **Collisional excitation**: When the temperature of IS gas becomes so hot, the collisions between atoms become so strong that they are able to ionized each other. This is called collisional excitation. The kinetic energy of a collision partner is converted into the internal energy of a reactant species. Using the collisional (de)excitation coefficients $k_{01}$ and $k_{10} \\text{ [cm3s-1]}$, and the density $n_c$ of the collision partner, we can set up the following equations for the collisional (de)excitation rates:\n",
    "\n",
    "$$ C_{01} = k_{01} n_c $$\n",
    "\n",
    "- **Collisional deexcitation**: The inverse process of collisional excitation. \n",
    "\n",
    "$$ C_{10} = k_{10} n_c $$\n",
    "\n",
    "Using the above excitation and deexcitation mechanism, you can set up a 2-level system:\n",
    "\n",
    "![](figs/fig_1.png)\n",
    "\n",
    "The situation **Excitation without induced radiative transitions** can be seen as a special case of the general situation sketeched in the figure above. In this particular situation, there is no absorption and stimulated emission; so the two arrows containing the Einstein $B$-coefficient vanish. This is the case when the ISM is optically thin, because then photons will escape instead of getting absorpted by an atom or stimulate emission in an atom."
   ]
  },
  {
   "cell_type": "markdown",
   "metadata": {},
   "source": [
    "- **Understand the high and low density limit. Which one is dependent on density and which one is independent. You should be able to explain without thinking about it.** (lecture 6, hour 1)\n",
    "\n",
    "**Answer**:\n",
    "\n",
    "The critical density is defined as the ratio of the Einstein $A$ coefficient and the collisional deexcitation coefficient:\n",
    "\n",
    "$$ n_\\text{crit} = \\frac{A_{10}}{k_{10}} $$\n",
    "\n",
    "From this the following important expression and result follows:\n",
    "\n",
    "$$ \\frac{n_1}{n_0} = \\frac{1}{1 + \\frac{n_\\text{crit}}{n_c}} \\frac{g_i}{g_0} e^{-\\frac{E_{10}}{kT_\\text{kin}}} $$\n",
    "\n",
    "The important implications form this are the low and high density limits. The high density limit is:\n",
    "\n",
    "$$ n_c >> n_\\text{crit} $$\n",
    "\n",
    "$$ \\frac{n_1}{n_0} = \\frac{g_i}{g_0} e^{-\\frac{E_{10}}{kT_\\text{kin}}} $$\n",
    "\n",
    "$$ T_\\text{ex} = T_\\text{kin} \\rightarrow \\text{ Thermalized levels & independent of density} $$\n",
    "\n",
    "In the low density limit:\n",
    "\n",
    "$$ n_c << n_\\text{crit} $$\n",
    "\n",
    "$$ \\frac{n_1}{n_0} = \\frac{n_c}{n_\\text{crit}} \\frac{g_i}{g_0} e^{-\\frac{E_{10}}{kT_\\text{kin}}} \\rightarrow \\text{ Subthermal excitation & density dependent} $$"
   ]
  },
  {
   "cell_type": "markdown",
   "metadata": {},
   "source": [
    "- Application 2 is a typical exam question. Draine figures 17.4 en 17.5. (lecture 6, hour 2)"
   ]
  },
  {
   "cell_type": "markdown",
   "metadata": {},
   "source": [
    "- Understand slide 34 of lecture 7 (lecture 7, hour 1). Explain the behaviour and shape of the curves."
   ]
  },
  {
   "cell_type": "markdown",
   "metadata": {},
   "source": [
    "- Understand self-shielding. What is it, why is it important, when does it happen? (Lecture 8, hour 2)"
   ]
  },
  {
   "cell_type": "markdown",
   "metadata": {},
   "source": [
    "- Explain why there is a cold neutral medium and a warm neutral medium, with two different temperatures. (Lecture 9, hour 1) What is the observational evidence and what is the theoretical explanation for it? To be explained without any equations (Lecture 12, hour 2)"
   ]
  },
  {
   "cell_type": "markdown",
   "metadata": {},
   "source": [
    "- Why do H2 regions always have a temperature around 8000 K? (Lecture 9, hour 1)"
   ]
  },
  {
   "cell_type": "markdown",
   "metadata": {},
   "source": [
    "- Why is dust emission not a cooling mechanism of gas? (Lecture 9, hour 1)"
   ]
  },
  {
   "cell_type": "markdown",
   "metadata": {},
   "source": [
    "**Answer**: It cools the dust, not the gas. Dust and gas are not thermally coupled. So there is a dust temperature and a gas temperature that are generally not the same. Only at high densities, dust and gas become thermally coupled and the temperatures become the same."
   ]
  },
  {
   "cell_type": "markdown",
   "metadata": {},
   "source": [
    "- Explain how collisional excitation is a cooling mechanism. How do we know it is the dominant cooling mechanism? (Lecture 9, hour 1)"
   ]
  },
  {
   "cell_type": "markdown",
   "metadata": {},
   "source": [
    "- Why does the temperature increase with density for HII regions? (Lecture 9, hour 1, at the end) (typical exam question)"
   ]
  },
  {
   "cell_type": "markdown",
   "metadata": {},
   "source": [
    "**Answer**: The next collision happens before photo-emission."
   ]
  },
  {
   "cell_type": "markdown",
   "metadata": {},
   "source": [
    "- Explain the observational evidence for the 2-phase ISM (The cold neutral medium and the hot neutral medium) (Lecture 4, hour 1). Make sure to be able to explain the physical meaning of figure 30.2b of Draine. Be able to sketch it, indicate net heating and cooling, and explain the existence of the 2-phase atomic medium. (Lecture 9, hour 2)."
   ]
  },
  {
   "cell_type": "markdown",
   "metadata": {},
   "source": [
    "- Why is direct measurement of molecular hydrogen mass so difficult? (Lecture 10, hour 1)"
   ]
  }
 ],
 "metadata": {
  "kernelspec": {
   "display_name": "Python 3",
   "language": "python",
   "name": "python3"
  },
  "language_info": {
   "codemirror_mode": {
    "name": "ipython",
    "version": 3
   },
   "file_extension": ".py",
   "mimetype": "text/x-python",
   "name": "python",
   "nbconvert_exporter": "python",
   "pygments_lexer": "ipython3",
   "version": "3.6.5"
  }
 },
 "nbformat": 4,
 "nbformat_minor": 2
}
